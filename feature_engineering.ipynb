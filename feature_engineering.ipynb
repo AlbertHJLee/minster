{
 "cells": [
  {
   "cell_type": "code",
   "execution_count": 1,
   "metadata": {
    "collapsed": true
   },
   "outputs": [],
   "source": [
    "import utils\n",
    "import pandas\n",
    "import numpy as np\n",
    "from scipy import misc\n",
    "import matplotlib.pyplot as plt\n",
    "\n",
    "from datetime import datetime, date\n",
    "\n",
    "from scipy.misc import imresize\n",
    "import features\n"
   ]
  },
  {
   "cell_type": "code",
   "execution_count": 2,
   "metadata": {
    "collapsed": true
   },
   "outputs": [],
   "source": [
    "def not_in_list(x,args,y):\n",
    "    list = x['caption'].split(' #')\n",
    "    return not (args in list[1:])\n",
    "\n",
    "def convertString(x):\n",
    "    string = str(x)\n",
    "    if 'k' in string:\n",
    "        number = float( ''.join(string.split('k')[0].split(',')) ) * 1000\n",
    "    elif 'm' in string:\n",
    "        number = float( ''.join(string.split('m')[0].split(',')) ) * 1000000\n",
    "    else:\n",
    "        number = float( ''.join(string.split(',')) )\n",
    "    return number\n",
    "\n",
    "def extractTimeData(x):\n",
    "    createdtime = datetime.fromtimestamp(int(x))\n",
    "    hour = createdtime.hour\n",
    "    weekday = createdtime.weekday()\n",
    "    #date(2017,9,16).weekday()\n",
    "    return weekday, hour"
   ]
  },
  {
   "cell_type": "code",
   "execution_count": 3,
   "metadata": {
    "collapsed": true
   },
   "outputs": [],
   "source": [
    "import utils\n",
    "import json\n",
    "import pandas\n",
    "import features\n",
    "from scipy.misc import imresize"
   ]
  },
  {
   "cell_type": "code",
   "execution_count": 4,
   "metadata": {
    "collapsed": true
   },
   "outputs": [],
   "source": [
    "from sklearn import linear_model, datasets\n",
    "from sklearn.metrics import mean_squared_error as MSE, r2_score as R2S"
   ]
  },
  {
   "cell_type": "code",
   "execution_count": 39,
   "metadata": {
    "collapsed": true
   },
   "outputs": [],
   "source": [
    "posts,images = utils.dataFromScraper('pierreherme')\n",
    "dfp = pandas.DataFrame(posts)"
   ]
  },
  {
   "cell_type": "code",
   "execution_count": null,
   "metadata": {
    "collapsed": true
   },
   "outputs": [],
   "source": []
  },
  {
   "cell_type": "code",
   "execution_count": 40,
   "metadata": {
    "collapsed": true
   },
   "outputs": [],
   "source": [
    "# Extract features\n",
    "\n",
    "nbins = 20\n",
    "nposts0 = len(posts)\n",
    "satH = np.zeros([nposts0,nbins])\n",
    "conH = np.zeros([len(posts),nbins])\n",
    "sat = np.zeros(len(posts))\n",
    "contrast = np.zeros(len(posts))\n",
    "\n",
    "dims = 5\n",
    "comp = np.zeros([len(posts),dims**2])\n",
    "\n",
    "kernelCos,kernelSin,kernelCor1,kernelCor2,kernelCor3,kernelCor4 = features.compKernels(dims)\n",
    "kCos = np.zeros(nposts0)\n",
    "kSin = np.zeros(nposts0)\n",
    "kCor1 = np.zeros(nposts0)\n",
    "kCor2 = np.zeros(nposts0)\n",
    "kCor3 = np.zeros(nposts0)\n",
    "kCor4 = np.zeros(nposts0)\n",
    "\n",
    "for i in range(len(posts)):\n",
    "    satH[i],_ = np.histogram(features.colorfulness(images[i]), bins=nbins)\n",
    "    satH[i] = satH[i]/np.sqrt(np.sum(satH[i]**2))\n",
    "    sat[i] = np.mean(features.colorfulness(images[i]))\n",
    "    intensity = np.mean(images[i],2)\n",
    "    conH[i],_ = np.histogram(intensity, bins=nbins)\n",
    "    conH[i] = conH[i]/np.sqrt(np.sum(conH[i]**2))\n",
    "    contrast[i] = features.contrast(images[i])\n",
    "    comp[i] = imresize(intensity,[dims,dims]).reshape([dims**2])\n",
    "\n",
    "    temp = imresize(intensity,[dims,dims])\n",
    "    kCos[i] = np.mean(temp*kernelCos)\n",
    "    kSin[i] = np.mean(temp*kernelSin)\n",
    "    kCor1[i] = np.mean(temp*kernelCor1)\n",
    "    kCor2[i] = np.mean(temp*kernelCor2)\n",
    "    kCor3[i] = np.mean(temp*kernelCor3)\n",
    "    kCor4[i] = np.mean(temp*kernelCor4)"
   ]
  },
  {
   "cell_type": "code",
   "execution_count": 37,
   "metadata": {
    "collapsed": true
   },
   "outputs": [],
   "source": [
    "# Extract features\n",
    "\n",
    "likes = dfp['likes'].apply(lambda x: float(convertString(x))).values\n",
    "ntags = dfp[u'caption'].apply(lambda x: float( len(x.split(' #')) ) ).values - 1\n",
    "hour = dfp[u'createdtime'].apply(lambda x: extractTimeData(x)[1]).values\n",
    "weekday = dfp[u'createdtime'].apply(lambda x: extractTimeData(x)[0]).values\n"
   ]
  },
  {
   "cell_type": "code",
   "execution_count": null,
   "metadata": {
    "collapsed": true
   },
   "outputs": [],
   "source": []
  },
  {
   "cell_type": "code",
   "execution_count": 38,
   "metadata": {},
   "outputs": [
    {
     "name": "stdout",
     "output_type": "stream",
     "text": [
      "(1135,)\n",
      "MSE: 0.022587\n",
      "R2S: 0.022202\n"
     ]
    },
    {
     "data": {
      "image/png": "[encoded data removed]",
      "text/plain": [
       "<matplotlib.figure.Figure at 0x7fa04a60e450>"
      ]
     },
     "metadata": {},
     "output_type": "display_data"
    },
    {
     "data": {
      "image/png": "[encoded data removed]",
      "text/plain": [
       "<matplotlib.figure.Figure at 0x7fa04a7f2090>"
      ]
     },
     "metadata": {},
     "output_type": "display_data"
    },
    {
     "name": "stdout",
     "output_type": "stream",
     "text": [
      "[-0.00169312 -0.00018984  0.00070065 -0.00014525 -0.00017754  0.00125853\n",
      "  0.0225683 ]\n"
     ]
    }
   ],
   "source": [
    "# Prune and normalize data\n",
    "    \n",
    "keep = (likes < 2000) & (likes > 1) #& (ntags < 18)\n",
    "#keep = dfp.apply(not_in_list,args=[u'fashion',0],axis=1).values & keep\n",
    "\n",
    "goodposts = dfp.loc[keep]\n",
    "goodsat = sat[keep]\n",
    "goodcontrast = contrast[keep]\n",
    "gcomp = comp[keep]\n",
    "print goodcontrast.shape\n",
    "\n",
    "likes = likes[keep]\n",
    "ntags = ntags[keep]\n",
    "\n",
    "gCos = kCos[keep]\n",
    "gSin = kSin[keep]\n",
    "\n",
    "minsat = np.min(sat)\n",
    "maxsat = np.max(sat)\n",
    "mincon = np.min(goodcontrast)\n",
    "maxcon = np.max(goodcontrast)\n",
    "minlike = min(likes)\n",
    "maxlike = max(likes)\n",
    "mintags = min(ntags)\n",
    "maxtags = max(ntags)\n",
    "\n",
    "gSinA = np.abs(gSin)/np.max(np.abs(gSin))\n",
    "\n",
    "goodsat = (goodsat - minsat)/(maxsat-minsat)\n",
    "goodcontrast = (goodcontrast - mincon)/(maxcon-mincon)\n",
    "likes = (likes - minlike)/(maxlike - minlike)\n",
    "gcomp = gcomp/255.\n",
    "ntags = (ntags - np.mean(ntags))/(maxtags - mintags)\n",
    "gCos = (gCos - np.mean(gCos))/(np.max(gCos) - np.min(gCos))\n",
    "gSin = (gSin - np.mean(gSin))/(np.max(gSin) - np.min(gSin))\n",
    "\n",
    "\n",
    "# Split into test and training sets\n",
    "\n",
    "nposts = len(goodposts)\n",
    "test = ((np.arange(nposts) % 10) == 0) | ((np.arange(nposts) % 10) == 3)\n",
    "train = np.logical_not(test)\n",
    "ntrain = len(np.where(train)[0])\n",
    "\n",
    "if False:\n",
    "    data_train = np.zeros([ntrain,(1+2+4+4+1+1)])\n",
    "    data_train[:,0] = goodsat[train]\n",
    "    data_train[:,1] = gCos[train]\n",
    "    data_train[:,2] = gSin[train]\n",
    "    data_train[:,3:7] = gcomp[train,:4]\n",
    "    data_train[:,7:11] = gcomp[train,-4:]\n",
    "    data_train[:,11] = goodcontrast[train]\n",
    "    data_train[:,-1] = ntags[train]\n",
    "\n",
    "    data_test = np.zeros([(nposts-ntrain),(1+2+4+4+1+1)])\n",
    "    data_test[:,0] = goodsat[test]\n",
    "    data_test[:,1] = gCos[test]\n",
    "    data_test[:,2] = gSin[test]\n",
    "    data_test[:,3:7] = gcomp[test,:4]\n",
    "    data_test[:,7:11] = gcomp[test,-4:]\n",
    "    data_test[:,11] = goodcontrast[test]\n",
    "    data_test[:,-1] = ntags[test]\n",
    "\n",
    "elif True:\n",
    "    data_train = np.zeros([ntrain,1+2+1+1+1])\n",
    "    data_train[:,0] = gCos[train]\n",
    "    data_train[:,1] = gSin[train]\n",
    "    data_train[:,2] = goodsat[train]\n",
    "    data_train[:,3] = goodcontrast[train]\n",
    "    data_train[:,-2] = gSinA[train]\n",
    "    data_train[:,-1] = ntags[train]\n",
    "    \n",
    "    data_test = np.zeros([(nposts-ntrain),1+2+1+1+1])\n",
    "    data_test[:,0] = gCos[test]\n",
    "    data_test[:,1] = gSin[test]\n",
    "    data_test[:,2] = goodsat[test]\n",
    "    data_test[:,3] = goodcontrast[test]\n",
    "    data_test[:,-2] = gSinA[test]\n",
    "    data_test[:,-1] = ntags[test]\n",
    "    \n",
    "elif False:\n",
    "    data_train = np.zeros([ntrain,1+1+1])\n",
    "    data_train[:,0] = gCos[train]\n",
    "    data_train[:,1] = gSin[train]\n",
    "    data_train[:,-1] = ntags[train]\n",
    "    \n",
    "    data_test = np.zeros([(nposts-ntrain),1+1+1])\n",
    "    data_test[:,0] = gCos[test]\n",
    "    data_test[:,1] = gSin[test]\n",
    "    data_test[:,-1] = ntags[test]\n",
    "    \n",
    "elif True:\n",
    "    data_train = np.zeros([ntrain,1])\n",
    "    data_train[:,-1] = ntags[train]\n",
    "    \n",
    "    data_test = np.zeros([(nposts-ntrain),1])\n",
    "    data_test[:,-1] = ntags[test]\n",
    "    \n",
    "elif False:\n",
    "    data_train = np.zeros([ntrain,(1+20+25+1)])\n",
    "    data_train[:,0] = goodsat[train]\n",
    "    data_train[:,1:21] = goodcontrast[train,:]\n",
    "    data_train[:,21:46] = gcomp[train]\n",
    "    #data_train[:,7:11] = gcomp[train,-4:]\n",
    "    data_train[:,-1] = ntags[train]\n",
    "\n",
    "    data_test = np.zeros([(nposts-ntrain),(1+20+25+1)])\n",
    "    data_test[:,0] = goodsat[test]\n",
    "    data_test[:,1:21] = goodcontrast[test,:]\n",
    "    data_test[:,21:46] = gcomp[test]\n",
    "    #data_test[:,7:11] = gcomp[test,-4:]\n",
    "    data_test[:,-1] = ntags[test]\n",
    "\n",
    "elif True:\n",
    "    data_train = np.zeros([ntrain,(25+20+1)])\n",
    "    data_train[:,0:25] = gcomp[train,:]\n",
    "    data_train[:,25:-1] = goodcontrast[train]\n",
    "    data_train[:,-1] = goodsat[train]\n",
    "\n",
    "    data_test = np.zeros([(nposts-ntrain),(25+20+1)])\n",
    "    data_test[:,0:25] = gcomp[test,:]\n",
    "    data_test[:,25:-1] = goodcontrast[test]\n",
    "    data_test[:,-1] = goodsat[test]\n",
    "\n",
    "    \n",
    "y_train = likes[train]\n",
    "y_test = likes[test]\n",
    "\n",
    "\n",
    "# Run regression\n",
    "\n",
    "regr = linear_model.LinearRegression()\n",
    "regr.fit(data_train, y_train)\n",
    "\n",
    "y_pred = regr.predict(data_test)\n",
    "\n",
    "print 'MSE: %8f'%MSE(y_test, y_pred)\n",
    "print 'R2S: %8f'%R2S(y_test, y_pred)\n",
    "\n",
    "fig = plt.figure(figsize=[5,5])\n",
    "feat = -2\n",
    "plt.scatter(data_test[:,feat], y_test,  color='black')\n",
    "plt.scatter(data_test[:,feat], y_pred, color='blue', linewidth=3)\n",
    "#plt.xlabel('normalized contrast')\n",
    "plt.ylabel('normalized likes')\n",
    "plt.show()\n",
    "\n",
    "cov = np.cov(np.append(data_train,y_train.reshape([ntrain,1]),axis=1).transpose())\n",
    "plt.imshow(cov,cmap='gray')\n",
    "plt.show()\n",
    "print cov[-1,:] #, data_test[1,:]\n"
   ]
  },
  {
   "cell_type": "code",
   "execution_count": 108,
   "metadata": {},
   "outputs": [
    {
     "name": "stdout",
     "output_type": "stream",
     "text": [
      " (1289,)"
     ]
    },
    {
     "ename": "IndexError",
     "evalue": "boolean index did not match indexed array along dimension 0; dimension is 1456 but corresponding boolean dimension is 1342",
     "output_type": "error",
     "traceback": [
      "\u001b[0;31m---------------------------------------------------------------------------\u001b[0m",
      "\u001b[0;31mIndexError\u001b[0m                                Traceback (most recent call last)",
      "\u001b[0;32m<ipython-input-108-815f0ffe0388>\u001b[0m in \u001b[0;36m<module>\u001b[0;34m()\u001b[0m\n\u001b[1;32m     10\u001b[0m \u001b[0mkeep\u001b[0m \u001b[0;34m=\u001b[0m \u001b[0;34m(\u001b[0m\u001b[0mlikes\u001b[0m \u001b[0;34m>\u001b[0m \u001b[0;36m.3\u001b[0m\u001b[0;34m)\u001b[0m\u001b[0;34m\u001b[0m\u001b[0m\n\u001b[1;32m     11\u001b[0m \u001b[0;32mprint\u001b[0m \u001b[0mnp\u001b[0m\u001b[0;34m.\u001b[0m\u001b[0mwhere\u001b[0m\u001b[0;34m(\u001b[0m\u001b[0mkeep\u001b[0m\u001b[0;34m)\u001b[0m\u001b[0;34m[\u001b[0m\u001b[0;36m0\u001b[0m\u001b[0;34m]\u001b[0m\u001b[0;34m.\u001b[0m\u001b[0mshape\u001b[0m\u001b[0;34m,\u001b[0m\u001b[0;34m\u001b[0m\u001b[0m\n\u001b[0;32m---> 12\u001b[0;31m \u001b[0mimage\u001b[0m \u001b[0;34m=\u001b[0m \u001b[0mnp\u001b[0m\u001b[0;34m.\u001b[0m\u001b[0mmean\u001b[0m\u001b[0;34m(\u001b[0m\u001b[0mimagesG\u001b[0m\u001b[0;34m[\u001b[0m\u001b[0mkeep\u001b[0m\u001b[0;34m]\u001b[0m\u001b[0;34m,\u001b[0m\u001b[0;36m0\u001b[0m\u001b[0;34m)\u001b[0m\u001b[0;34m\u001b[0m\u001b[0m\n\u001b[0m\u001b[1;32m     13\u001b[0m \u001b[0max1\u001b[0m\u001b[0;34m.\u001b[0m\u001b[0mimshow\u001b[0m\u001b[0;34m(\u001b[0m\u001b[0mimage\u001b[0m\u001b[0;34m/\u001b[0m\u001b[0;36m255.\u001b[0m\u001b[0;34m)\u001b[0m\u001b[0;34m\u001b[0m\u001b[0m\n\u001b[1;32m     14\u001b[0m \u001b[0;34m\u001b[0m\u001b[0m\n",
      "\u001b[0;31mIndexError\u001b[0m: boolean index did not match indexed array along dimension 0; dimension is 1456 but corresponding boolean dimension is 1342"
     ]
    }
   ],
   "source": [
    "imagesG = np.mean(images,3)\n",
    "\n",
    "plt.scatter(ntags,likes)\n",
    "\n",
    "likes = likes/np.max(likes)\n",
    "\n",
    "fig = plt.figure(figsize=[15,15])\n",
    "\n",
    "ax1 = fig.add_subplot(141)\n",
    "keep = (likes > .3)\n",
    "print np.where(keep)[0].shape,\n",
    "image = np.mean(imagesG[keep],0)\n",
    "ax1.imshow(image/255.)\n",
    "\n",
    "ax2 = fig.add_subplot(142)\n",
    "keep = (likes > .25) & (likes <= .4)\n",
    "print np.where(keep)[0].shape,\n",
    "image = np.mean(imagesG[keep],0)\n",
    "ax2.imshow(image/255.)\n",
    "\n",
    "ax3 = fig.add_subplot(143)\n",
    "keep = (likes > .2) & (likes <= .25)\n",
    "print np.where(keep)[0].shape,\n",
    "image = np.mean(imagesG[keep],0)\n",
    "ax3.imshow(image/255.)\n",
    "\n",
    "ax4 = fig.add_subplot(144)\n",
    "keep = (likes <= .2)\n",
    "print np.where(keep)[0].shape,\n",
    "image = np.mean(imagesG[keep],0)\n",
    "ax4.imshow(image/255.)\n",
    "\n",
    "#plt.show()"
   ]
  },
  {
   "cell_type": "code",
   "execution_count": null,
   "metadata": {
    "collapsed": true
   },
   "outputs": [],
   "source": []
  }
 ],
 "metadata": {
  "kernelspec": {
   "display_name": "Python 2",
   "language": "python",
   "name": "python2"
  },
  "language_info": {
   "codemirror_mode": {
    "name": "ipython",
    "version": 2
   },
   "file_extension": ".py",
   "mimetype": "text/x-python",
   "name": "python",
   "nbconvert_exporter": "python",
   "pygments_lexer": "ipython2",
   "version": "2.7.12"
  }
 },
 "nbformat": 4,
 "nbformat_minor": 2
}
