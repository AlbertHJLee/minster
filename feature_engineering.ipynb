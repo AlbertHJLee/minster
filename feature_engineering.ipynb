{
 "cells": [
  {
   "cell_type": "code",
   "execution_count": 1,
   "metadata": {
    "collapsed": true
   },
   "outputs": [],
   "source": [
    "import utils\n",
    "import pandas\n",
    "import numpy as np\n",
    "from scipy import misc\n",
    "import matplotlib.pyplot as plt\n",
    "\n",
    "from datetime import datetime, date\n",
    "\n",
    "from scipy.misc import imresize\n",
    "import features\n"
   ]
  },
  {
   "cell_type": "code",
   "execution_count": 2,
   "metadata": {
    "collapsed": true
   },
   "outputs": [],
   "source": [
    "def not_in_list(x,args,y):\n",
    "    list = x['caption'].split(' #')\n",
    "    return not (args in list[1:])\n",
    "\n",
    "def convertString(x):\n",
    "    string = str(x)\n",
    "    if 'k' in string:\n",
    "        number = float( ''.join(string.split('k')[0].split(',')) ) * 1000\n",
    "    elif 'm' in string:\n",
    "        number = float( ''.join(string.split('m')[0].split(',')) ) * 1000000\n",
    "    else:\n",
    "        number = float( ''.join(string.split(',')) )\n",
    "    return number\n",
    "\n",
    "def extractTimeData(x):\n",
    "    if (type(x) is unicode):\n",
    "        createdtime = datetime.fromtimestamp(int(x))\n",
    "        hour = createdtime.hour\n",
    "        weekday = createdtime.weekday()\n",
    "        #date(2017,9,16).weekday()\n",
    "        return weekday, hour\n",
    "    elif type(x) is int:\n",
    "        createdtime = datetime.fromtimestamp(x)\n",
    "        hour = createdtime.hour\n",
    "        weekday = createdtime.weekday()\n",
    "        #date(2017,9,16).weekday()\n",
    "        return weekday, hour\n",
    "    else:\n",
    "        return 7, 25\n",
    "    return False\n",
    "\n",
    "def getnposts(x):\n",
    "    if type(x) is list:\n",
    "        npostunicode = x[0]\n",
    "        return convertString(npostunicode)\n",
    "    elif type(x) is unicode:\n",
    "        return convertString(x)\n",
    "    else:\n",
    "        return -1\n",
    "    "
   ]
  },
  {
   "cell_type": "code",
   "execution_count": 3,
   "metadata": {
    "collapsed": true
   },
   "outputs": [],
   "source": [
    "import utils\n",
    "import json\n",
    "import pandas\n",
    "import features\n",
    "from scipy.misc import imresize"
   ]
  },
  {
   "cell_type": "code",
   "execution_count": 4,
   "metadata": {
    "collapsed": true
   },
   "outputs": [],
   "source": [
    "from sklearn import linear_model, datasets\n",
    "from sklearn.metrics import mean_squared_error as MSE, r2_score as R2S"
   ]
  },
  {
   "cell_type": "markdown",
   "metadata": {
    "collapsed": true
   },
   "source": [
    "List of users\n",
    "\n",
    "cake.and.sweets.17  ezgipolat       iamdessertlover        lolly_cakery        somepaintings\n",
    "carolina_nusadua    garrylarduinat  iceandvice             minastaartenwereld  stuffbeneats\n",
    "cedricgrolet        gunopark        omjsk                  taiyakinyc\n",
    "dinarakasko         helloemilie     jacquesgenin           pierreherme         way_cake\n",
    "eightturncrepeny    hungrygrls      jamesjeanart           pollykosheleva"
   ]
  },
  {
   "cell_type": "code",
   "execution_count": 9,
   "metadata": {},
   "outputs": [],
   "source": [
    "userSpecific = False\n",
    "\n",
    "if userSpecific:\n",
    "    posts,images = utils.dataFromScraper('stuffbeneats')\n",
    "    dfp = pandas.DataFrame(posts)\n",
    "    bytag = False\n",
    "    \n",
    "else:\n",
    "    bytag = True\n",
    "    posts, images = utils.getData('posts_cake_1505409284.json',updated=True,rawimages=True)\n",
    "    with open('data/users_cake_1505409284.json','r') as infile:\n",
    "            users = json.load(infile)\n",
    "    dfu = pandas.DataFrame(users)\n",
    "    dfp = pandas.DataFrame(posts)"
   ]
  },
  {
   "cell_type": "code",
   "execution_count": null,
   "metadata": {
    "collapsed": true
   },
   "outputs": [],
   "source": []
  },
  {
   "cell_type": "code",
   "execution_count": 11,
   "metadata": {
    "collapsed": true
   },
   "outputs": [],
   "source": [
    "# Extract image features\n",
    "\n",
    "nbins = 20\n",
    "nposts0 = len(posts)\n",
    "satH = np.zeros([nposts0,nbins])\n",
    "conH = np.zeros([nposts0,nbins])\n",
    "sat = np.zeros(nposts0)\n",
    "contrast = np.zeros(nposts0)\n",
    "\n",
    "dims = 5\n",
    "comp = np.zeros([nposts0,dims**2])\n",
    "\n",
    "kernelCos,kernelSin,kernelCor1,kernelCor2,kernelCor3,kernelCor4 = features.compKernels(dims)\n",
    "kCos = np.zeros(nposts0)\n",
    "kSin = np.zeros(nposts0)\n",
    "kCor1 = np.zeros(nposts0)\n",
    "kCor2 = np.zeros(nposts0)\n",
    "kCor3 = np.zeros(nposts0)\n",
    "kCor4 = np.zeros(nposts0)\n",
    "\n",
    "for i in range(len(posts)):\n",
    "    satH[i],_ = np.histogram(features.colorfulness(images[i]), bins=nbins)\n",
    "    satH[i] = satH[i]/np.sqrt(np.sum(satH[i]**2))\n",
    "    sat[i] = np.mean(features.colorfulness(images[i]))\n",
    "    intensity = np.mean(images[i],2)\n",
    "    conH[i],_ = np.histogram(intensity, bins=nbins)\n",
    "    conH[i] = conH[i]/np.sqrt(np.sum(conH[i]**2))\n",
    "    contrast[i] = features.contrast(images[i])\n",
    "    comp[i] = imresize(intensity,[dims,dims]).reshape([dims**2])\n",
    "\n",
    "    temp = imresize(intensity,[dims,dims])\n",
    "    kCos[i] = np.mean(temp*kernelCos)\n",
    "    kSin[i] = np.mean(temp*kernelSin)\n",
    "    kCor1[i] = np.mean(temp*kernelCor1)\n",
    "    kCor2[i] = np.mean(temp*kernelCor2)\n",
    "    kCor3[i] = np.mean(temp*kernelCor3)\n",
    "    kCor4[i] = np.mean(temp*kernelCor4)\n",
    "    \n",
    "\n",
    "# Extract features\n",
    "\n",
    "likes = dfp['likes'].apply(lambda x: float(convertString(x))).values\n",
    "ntags = dfp[u'caption'].apply(lambda x: float( len(x.split(' #')) ) ).values - 1\n",
    "mult = dfp[u'ismultiple'].values\n",
    "\n",
    "if userSpecific:\n",
    "    hour = dfp[u'createdtime'].apply(lambda x: extractTimeData(x)[1]).values\n",
    "    weekday = dfp[u'createdtime'].apply(lambda x: extractTimeData(x)[0]).values\n",
    "\n",
    "if bytag:\n",
    "    followers = dfu['followers'].apply(lambda x: float( convertString(x) )).values\n",
    "    following = dfu['following'].apply(lambda x: convertString(x)).values\n",
    "    user_nposts = dfu[u'nposts'].apply(lambda x: getnposts(x)).values\n",
    "    hour = dfp[u'date'].apply(lambda x: extractTimeData(x)[1]).values\n",
    "    weekday = dfp[u'date'].apply(lambda x: extractTimeData(x)[0]).values\n",
    "\n",
    "a = np.array([1, 0, 3])\n",
    "weekdayvec = np.zeros([nposts0,8])\n",
    "hourvec = np.zeros([nposts0,26])\n",
    "weekdayvec[np.arange(nposts0), weekday] = 1\n",
    "hourvec[np.arange(nposts0), hour] = 1\n"
   ]
  },
  {
   "cell_type": "code",
   "execution_count": 15,
   "metadata": {
    "scrolled": false
   },
   "outputs": [
    {
     "data": {
      "text/plain": [
       "array([[ 0.,  0.,  0.,  1.,  0.,  0.,  0.,  0.],\n",
       "       [ 0.,  0.,  0.,  1.,  0.,  0.,  0.,  0.],\n",
       "       [ 0.,  0.,  0.,  1.,  0.,  0.,  0.,  0.],\n",
       "       [ 0.,  0.,  0.,  1.,  0.,  0.,  0.,  0.],\n",
       "       [ 0.,  0.,  0.,  1.,  0.,  0.,  0.,  0.],\n",
       "       [ 0.,  0.,  0.,  1.,  0.,  0.,  0.,  0.],\n",
       "       [ 0.,  0.,  0.,  1.,  0.,  0.,  0.,  0.],\n",
       "       [ 0.,  0.,  0.,  1.,  0.,  0.,  0.,  0.],\n",
       "       [ 0.,  0.,  0.,  1.,  0.,  0.,  0.,  0.]])"
      ]
     },
     "execution_count": 15,
     "metadata": {},
     "output_type": "execute_result"
    }
   ],
   "source": [
    "weekdayvec[0:9]"
   ]
  },
  {
   "cell_type": "code",
   "execution_count": 29,
   "metadata": {},
   "outputs": [],
   "source": [
    "# Normalize data\n",
    "\n",
    "minsat = np.min(sat)\n",
    "maxsat = np.max(sat)\n",
    "mincon = np.min(contrast)\n",
    "maxcon = np.max(contrast)\n",
    "minlike = min(likes)\n",
    "maxlike = max(likes)\n",
    "mintags = min(ntags)\n",
    "maxtags = max(ntags)\n",
    "\n",
    "normSinA = np.abs(kSin)/np.max(np.abs(kSin))\n",
    "\n",
    "normsat = (sat - minsat)/(maxsat-minsat)\n",
    "normcontrast = (contrast - mincon)/(maxcon-mincon)\n",
    "normlikes = (likes - minlike)/(maxlike - minlike)\n",
    "normcomp = comp/255.\n",
    "normNtags = (ntags - np.mean(ntags))/(maxtags - mintags)\n",
    "normCos = (kCos - np.mean(kCos))/(np.max(kCos) - np.min(kCos))\n",
    "normSin = (kSin - np.mean(kSin))/(np.max(kSin) - np.min(kSin))\n",
    "\n",
    "\n",
    "# Vectorize data\n",
    "\n",
    "if bytag:\n",
    "    \n",
    "    nfeatures = 1+2+4+1+1+1+7+24+4\n",
    "    data = np.zeros([nposts0,nfeatures])\n",
    "    data[:,0] = normCos\n",
    "    data[:,1] = normSin\n",
    "    data[:,2] = normSinA\n",
    "    data[:,3] = kCor1/np.max(kCor1)\n",
    "    data[:,4] = kCor2/np.max(kCor2)\n",
    "    data[:,5] = kCor3/np.max(kCor3)\n",
    "    data[:,6] = kCor4/np.max(kCor4)\n",
    "    data[:,7] = normsat\n",
    "    data[:,8] = normcontrast\n",
    "    data[:,9] = normNtags\n",
    "    data[:,10:17] = weekdayvec[:,0:7]\n",
    "    data[:,17:41] = hourvec[:,0:24]\n",
    "    data[:,41] = followers/np.mean(followers)*.2\n",
    "    data[:,42] = following/np.mean(following)*.2\n",
    "    data[:,43] = user_nposts/np.mean(user_nposts)*.3\n",
    "    data[:,44] = mult\n",
    "\n",
    "else:\n",
    "        \n",
    "    nfeatures = 1+2+4+1+1+1+7+24\n",
    "    data = np.zeros([nposts0,nfeatures])\n",
    "    data[:,0] = normCos\n",
    "    data[:,1] = normSin\n",
    "    data[:,2] = normSinA\n",
    "    data[:,3] = kCor1/np.max(kCor1)\n",
    "    data[:,4] = kCor2/np.max(kCor2)\n",
    "    data[:,5] = kCor3/np.max(kCor3)\n",
    "    data[:,6] = kCor4/np.max(kCor4)\n",
    "    data[:,7] = normsat\n",
    "    data[:,8] = normcontrast\n",
    "    data[:,9] = normNtags\n",
    "    data[:,10:17] = weekdayvec[:,0:7]\n",
    "    data[:,17:] = hourvec[:,0:24]\n",
    "\n"
   ]
  },
  {
   "cell_type": "code",
   "execution_count": null,
   "metadata": {
    "collapsed": true
   },
   "outputs": [],
   "source": []
  },
  {
   "cell_type": "code",
   "execution_count": 35,
   "metadata": {
    "scrolled": false
   },
   "outputs": [
    {
     "name": "stdout",
     "output_type": "stream",
     "text": [
      "Without feature 00:\n",
      "MSE: 0.000002\n",
      "R2S: 0.238629\n",
      "Without feature 01:\n",
      "MSE: 0.000002\n",
      "R2S: 0.246638\n",
      "Without feature 02:\n",
      "MSE: 0.000002\n",
      "R2S: 0.235896\n",
      "Without feature 03:\n",
      "MSE: 0.000002\n",
      "R2S: 0.222069\n",
      "Without feature 04:\n",
      "MSE: 0.000002\n",
      "R2S: 0.255566\n",
      "Without feature 05:\n",
      "MSE: 0.000002\n",
      "R2S: 0.235757\n",
      "Without feature 06:\n",
      "MSE: 0.000002\n",
      "R2S: 0.247022\n",
      "Without feature 07:\n",
      "MSE: 0.000002\n",
      "R2S: 0.235944\n",
      "Without feature 08:\n",
      "MSE: 0.000002\n",
      "R2S: 0.235478\n",
      "Without feature 09:\n",
      "MSE: 0.000002\n",
      "R2S: 0.222000\n",
      "Without feature 10:\n",
      "MSE: 0.000002\n",
      "R2S: 0.235835\n",
      "Without feature 11:\n",
      "MSE: 0.000002\n",
      "R2S: 0.235835\n",
      "Without feature 12:\n",
      "MSE: 0.000002\n",
      "R2S: 0.235835\n",
      "Without feature 13:\n",
      "MSE: 0.000002\n",
      "R2S: 0.235835\n",
      "Without feature 14:\n",
      "MSE: 0.000002\n",
      "R2S: 0.235835\n",
      "Without feature 15:\n",
      "MSE: 0.000002\n",
      "R2S: 0.235835\n",
      "Without feature 16:\n",
      "MSE: 0.000002\n",
      "R2S: 0.235835\n",
      "Without feature 17:\n",
      "MSE: 0.000002\n",
      "R2S: 0.235835\n",
      "Without feature 18:\n",
      "MSE: 0.000002\n",
      "R2S: 0.235835\n",
      "Without feature 19:\n",
      "MSE: 0.000002\n",
      "R2S: 0.235835\n",
      "Without feature 20:\n",
      "MSE: 0.000002\n",
      "R2S: 0.235835\n",
      "Without feature 21:\n",
      "MSE: 0.000002\n",
      "R2S: 0.235835\n",
      "Without feature 22:\n",
      "MSE: 0.000002\n",
      "R2S: 0.235835\n",
      "Without feature 23:\n",
      "MSE: 0.000002\n",
      "R2S: 0.235835\n",
      "Without feature 24:\n",
      "MSE: 0.000002\n",
      "R2S: 0.235835\n",
      "Without feature 25:\n",
      "MSE: 0.000002\n",
      "R2S: 0.235835\n",
      "Without feature 26:\n",
      "MSE: 0.000002\n",
      "R2S: 0.235835\n",
      "Without feature 27:\n",
      "MSE: 0.000002\n",
      "R2S: 0.235835\n",
      "Without feature 28:\n",
      "MSE: 0.000002\n",
      "R2S: 0.235835\n",
      "Without feature 29:\n",
      "MSE: 0.000002\n",
      "R2S: 0.235835\n",
      "Without feature 30:\n",
      "MSE: 0.000002\n",
      "R2S: 0.235835\n",
      "Without feature 31:\n",
      "MSE: 0.000002\n",
      "R2S: 0.235835\n",
      "Without feature 32:\n",
      "MSE: 0.000002\n",
      "R2S: 0.235835\n",
      "Without feature 33:\n",
      "MSE: 0.000002\n",
      "R2S: 0.235835\n",
      "Without feature 34:\n",
      "MSE: 0.000002\n",
      "R2S: 0.235835\n",
      "Without feature 35:\n",
      "MSE: 0.000002\n",
      "R2S: 0.235835\n",
      "Without feature 36:\n",
      "MSE: 0.000002\n",
      "R2S: 0.235835\n",
      "Without feature 37:\n",
      "MSE: 0.000002\n",
      "R2S: 0.235835\n",
      "Without feature 38:\n",
      "MSE: 0.000002\n",
      "R2S: 0.235835\n",
      "Without feature 39:\n",
      "MSE: 0.000002\n",
      "R2S: 0.235835\n",
      "Without feature 40:\n",
      "MSE: 0.000002\n",
      "R2S: 0.235835\n",
      "Without feature 41:\n",
      "MSE: 0.000003\n",
      "R2S: 0.116934\n",
      "Without feature 42:\n",
      "MSE: 0.000002\n",
      "R2S: 0.233253\n",
      "Without feature 43:\n",
      "MSE: 0.000002\n",
      "R2S: 0.212185\n",
      "Without feature 44:\n",
      "MSE: 0.000002\n",
      "R2S: 0.206188\n",
      "\n",
      "With all features:\n",
      "MSE: 0.000002\n",
      "R2S: 0.235835\n",
      "Features by order of importance: \n",
      "[41 44 43  9  3 42  8  5 30 37 31 32 34 36 38 39 40 35 33 29 28 27 26 25 22\n",
      " 23 10 11 12 24 14 15 13 17 18 19 20 21 16  2  7  0  1  6  4]\n"
     ]
    },
    {
     "data": {
      "image/png": "[encoded data removed]",
      "text/plain": [
       "<matplotlib.figure.Figure at 0x7f3d4b334690>"
      ]
     },
     "metadata": {},
     "output_type": "display_data"
    },
    {
     "data": {
      "image/png": "[encoded data removed]",
      "text/plain": [
       "<matplotlib.figure.Figure at 0x7f3d4b5eee90>"
      ]
     },
     "metadata": {},
     "output_type": "display_data"
    },
    {
     "name": "stdout",
     "output_type": "stream",
     "text": [
      "[  6.83448643e-07   9.31518343e-06  -6.02244952e-06  -2.23997130e-05\n",
      "   1.69093554e-05  -4.02339032e-05  -5.01174579e-06   3.46546733e-06\n",
      "   7.25957582e-06   7.97329631e-05   0.00000000e+00   0.00000000e+00\n",
      "   0.00000000e+00   0.00000000e+00   0.00000000e+00   0.00000000e+00\n",
      "   0.00000000e+00   0.00000000e+00   0.00000000e+00   0.00000000e+00\n",
      "   0.00000000e+00   0.00000000e+00   0.00000000e+00   0.00000000e+00\n",
      "   0.00000000e+00   0.00000000e+00   0.00000000e+00   0.00000000e+00\n",
      "   0.00000000e+00   0.00000000e+00  -1.22928269e-05  -4.99573436e-06\n",
      "   4.02274843e-07  -6.20799231e-06   3.98250082e-05  -1.76713161e-05\n",
      "   4.35016272e-06  -3.40957612e-06   0.00000000e+00   0.00000000e+00\n",
      "   0.00000000e+00   2.30012244e-05   8.08144637e-05   2.41730150e-05\n",
      "   9.92355088e-05   2.49392495e-06]\n"
     ]
    }
   ],
   "source": [
    "# Prune data\n",
    "    \n",
    "keep = (likes < 5000) & (likes > 1) #& (ntags < 18)\n",
    "#keep = dfp.apply(not_in_list,args=[u'fashion',0],axis=1).values & keep\n",
    "\n",
    "if bytag:\n",
    "    likeOrder = likes.argsort()\n",
    "    keep = np.zeros(nposts0, dtype=bool)\n",
    "    keep[ likeOrder[int(nposts0*.05):int(nposts0*.90)].tolist() ] = True\n",
    "    followOrder = followers.argsort()\n",
    "    keep[ followOrder[int(nposts0*.85):].tolist() ] = False\n",
    "\n",
    "elif True:\n",
    "    likeOrder = likes.argsort()\n",
    "    keep = np.zeros(nposts0, dtype=bool)\n",
    "    keep[ likeOrder[int(nposts0*.05):int(nposts0*.90)].tolist() ] = True\n",
    "\n",
    "goodData = data[keep,:]\n",
    "y = normlikes[keep]\n",
    "\n",
    "\n",
    "# Split into test and training sets\n",
    "\n",
    "nposts = len(goodData)\n",
    "test = ((np.arange(nposts) % 10) == 0) | ((np.arange(nposts) % 10) == 3)\n",
    "crossval = ((np.arange(nposts) % 10) == 1) | ((np.arange(nposts) % 10) == 5)\n",
    "train = np.logical_not(test) & np.logical_not(crossval)\n",
    "ntrain = len(np.where(train)[0])\n",
    "ncross = len(np.where(crossval)[0])\n",
    "\n",
    "\n",
    "# Run regression with each feature missing\n",
    "# so that we can see each feature's effect on the R^2 score\n",
    "\n",
    "MSE_results = np.zeros(nfeatures)\n",
    "R2S_results = np.zeros(nfeatures)\n",
    "\n",
    "for i in range(nfeatures):\n",
    "\n",
    "    featureList = [True]*nfeatures\n",
    "    featureList[i] = False\n",
    "    \n",
    "    temp = goodData[:,featureList]\n",
    "\n",
    "    data_train = temp[train,:]\n",
    "    data_cross = temp[crossval,:]\n",
    "    data_test = temp[test,:]\n",
    "\n",
    "    y_train = y[train]\n",
    "    y_cross = y[crossval]\n",
    "    y_test = y[test]\n",
    "\n",
    "    regr = linear_model.LinearRegression()\n",
    "    regr.fit(data_train, y_train)\n",
    "\n",
    "    y_pred = regr.predict(data_cross)\n",
    "\n",
    "    MSE_results[i] = MSE(y_cross, y_pred)\n",
    "    R2S_results[i] = R2S(y_cross, y_pred)\n",
    "    print 'Without feature %02i:'%i\n",
    "    print 'MSE: %8f'%MSE_results[i]\n",
    "    print 'R2S: %8f'%R2S_results[i]\n",
    "    \n",
    "\n",
    "# Run regression on all features\n",
    "\n",
    "data_train = goodData[train,:]\n",
    "data_cross = goodData[crossval,:]\n",
    "data_test = goodData[test,:]\n",
    "\n",
    "y_train = y[train]\n",
    "y_cross = y[crossval]\n",
    "y_test = y[test]\n",
    "\n",
    "regr = linear_model.LinearRegression()\n",
    "regr.fit(data_train, y_train)\n",
    "\n",
    "y_pred = regr.predict(data_cross)\n",
    "\n",
    "MSEall = MSE(y_cross, y_pred)\n",
    "R2Sall = R2S(y_cross, y_pred)\n",
    "\n",
    "print ''\n",
    "print 'With all features:'\n",
    "print 'MSE: %8f'%MSEall\n",
    "print 'R2S: %8f'%R2Sall\n",
    "\n",
    "\n",
    "print 'Features by order of importance: '\n",
    "print R2S_results.argsort()\n",
    "    \n",
    "if True:\n",
    "\n",
    "    fig = plt.figure(figsize=[5,5])\n",
    "    feat = 41\n",
    "    plt.scatter(data_cross[:,feat], y_cross,  color='black')\n",
    "    plt.scatter(data_cross[:,feat], y_pred, color='blue', linewidth=3)\n",
    "    #plt.xlabel('normalized contrast')\n",
    "    plt.ylabel('normalized likes')\n",
    "    plt.show()\n",
    "\n",
    "    cov = np.cov(np.append(data_train,y_train.reshape([ntrain,1]),axis=1).transpose())\n",
    "    plt.imshow(cov,cmap='gray')\n",
    "    plt.show()\n",
    "    print cov[-1,:] #, data_test[1,:]\n"
   ]
  },
  {
   "cell_type": "code",
   "execution_count": 32,
   "metadata": {
    "scrolled": false
   },
   "outputs": [
    {
     "name": "stdout",
     "output_type": "stream",
     "text": [
      "[False False False  True False False False False  True  True False False\n",
      " False False False False False False False False False False False False\n",
      " False False False False False False False False False False False False\n",
      " False False False False False  True  True  True  True] 3 7\n",
      "\n",
      "Cross Validation with best features:\n",
      "MSE: 0.000002\n",
      "R2S: 0.255256\n",
      "\n",
      "Test set with best features:\n",
      "MSE: 0.000002\n",
      "R2S: 0.302741\n",
      "\n",
      "Cross Validation with just metadata:\n",
      "MSE: 0.000003\n",
      "R2S: 0.045612\n",
      "\n",
      "Test set with just metadata:\n",
      "MSE: 0.000003\n",
      "R2S: 0.030027\n"
     ]
    }
   ],
   "source": [
    "# Run regression on test set with most informative features\n",
    "\n",
    "feature_helps = R2Sall > R2S_results + .0001\n",
    "feature_helps_alot = R2Sall > R2S_results + .02\n",
    "if np.sum(feature_helps_alot) > nfeatures*.5:\n",
    "    featureList = feature_helps_alot\n",
    "elif np.sum(feature_helps) > np.ceil(nfeatures*.5):\n",
    "    featureList = np.median(R2S_results) > R2S_results\n",
    "elif np.sum(feature_helps) >= 1:\n",
    "    featureList = feature_helps\n",
    "else:\n",
    "    order = R2S_results.argsort()\n",
    "    featureList = np.arange(nfeatures) == order[0]\n",
    "print featureList, np.sum(feature_helps_alot) , np.sum(feature_helps)\n",
    "\n",
    "\n",
    "# Run regression\n",
    "\n",
    "temp = goodData[:,featureList]\n",
    "\n",
    "data_train = temp[train,:]\n",
    "data_cross = temp[crossval,:]\n",
    "data_test = temp[test,:]\n",
    "\n",
    "y_train = y[train]\n",
    "y_cross = y[crossval]\n",
    "y_test = y[test]\n",
    "\n",
    "regr = linear_model.LinearRegression()\n",
    "regr.fit(data_train, y_train)\n",
    "y_pred = regr.predict(data_cross)\n",
    "print ''\n",
    "print 'Cross Validation with best features:'\n",
    "print 'MSE: %8f'%MSE(y_cross, y_pred)\n",
    "print 'R2S: %8f'%R2S(y_cross, y_pred)\n",
    "\n",
    "regr = linear_model.LinearRegression()\n",
    "regr.fit(data_train, y_train)\n",
    "y_pred = regr.predict(data_test)\n",
    "print ''\n",
    "print 'Test set with best features:'\n",
    "print 'MSE: %8f'%MSE(y_test, y_pred)\n",
    "print 'R2S: %8f'%R2S(y_test, y_pred)\n",
    "\n",
    "\n",
    "# Run with just metadata... do images help?\n",
    "\n",
    "data_train = goodData[train,-1].reshape(-1,1)\n",
    "data_cross = goodData[crossval,-1].reshape(-1,1)\n",
    "data_test = goodData[test,-1].reshape(-1,1)\n",
    "\n",
    "y_train = y[train]\n",
    "y_cross = y[crossval]\n",
    "y_test = y[test]\n",
    "\n",
    "regr = linear_model.LinearRegression()\n",
    "regr.fit(data_train, y_train)\n",
    "y_pred = regr.predict(data_cross)\n",
    "print ''\n",
    "print 'Cross Validation with just metadata:'\n",
    "print 'MSE: %8f'%MSE(y_cross, y_pred)\n",
    "print 'R2S: %8f'%R2S(y_cross, y_pred)\n",
    "\n",
    "regr = linear_model.LinearRegression()\n",
    "regr.fit(data_train, y_train)\n",
    "y_pred = regr.predict(data_test)\n",
    "print ''\n",
    "print 'Test set with just metadata:'\n",
    "print 'MSE: %8f'%MSE(y_test, y_pred)\n",
    "print 'R2S: %8f'%R2S(y_test, y_pred)\n",
    "\n"
   ]
  },
  {
   "cell_type": "code",
   "execution_count": 33,
   "metadata": {},
   "outputs": [
    {
     "name": "stdout",
     "output_type": "stream",
     "text": [
      "Average # likes in test set: 35.021   Average # likes in suggested posts: 36.220\n",
      "Average increase in likes:  0.0342575452917\n"
     ]
    }
   ],
   "source": [
    "ntest = y_test.shape[0]\n",
    "y_pred = regr.predict(data_test)\n",
    "yorder = y_pred.argsort()\n",
    "mean_y = np.mean(y_test)\n",
    "mean_yp = np.mean(y_test[yorder[int(ntest*.7):]])\n",
    "#print mean_y, mean_yp\n",
    "mean_y0 = mean_y*(maxlike-minlike) + minlike\n",
    "mean_yp0 = mean_yp*(maxlike-minlike) + minlike\n",
    "print 'Average # likes in test set: %.3f   Average # likes in suggested posts: %.3f'%(mean_y0, mean_yp0)\n",
    "print 'Average increase in likes: ',mean_yp0/mean_y0 - 1."
   ]
  },
  {
   "cell_type": "code",
   "execution_count": null,
   "metadata": {
    "collapsed": true,
    "scrolled": true
   },
   "outputs": [],
   "source": [
    "\n"
   ]
  },
  {
   "cell_type": "code",
   "execution_count": 96,
   "metadata": {
    "scrolled": false
   },
   "outputs": [
    {
     "name": "stdout",
     "output_type": "stream",
     "text": [
      "(154,) (154,) (154,) (155,)"
     ]
    },
    {
     "data": {
      "text/plain": [
       "<matplotlib.image.AxesImage at 0x7faf14c09090>"
      ]
     },
     "execution_count": 96,
     "metadata": {},
     "output_type": "execute_result"
    },
    {
     "name": "stdout",
     "output_type": "stream",
     "text": [
      "\n"
     ]
    }
   ],
   "source": [
    "imagesG = np.mean(images,3)\n",
    "\n",
    "likes = likes/np.max(likes)\n",
    "likeorder = likes.argsort()\n",
    "\n",
    "plt.scatter(ntags[likeorder[:int(nposts0*.95)]],likes[likeorder[:int(nposts0*.95)]])\n",
    "\n",
    "fig = plt.figure(figsize=[15,15])\n",
    "\n",
    "ax1 = fig.add_subplot(141)\n",
    "keep = np.zeros(nposts0,dtype=bool)\n",
    "keep[likeorder[:int(nposts0*.25)]] = True\n",
    "print np.where(keep)[0].shape,\n",
    "image = np.mean(imagesG[keep],0)\n",
    "ax1.imshow(image/255.)\n",
    "\n",
    "ax2 = fig.add_subplot(142)\n",
    "keep = np.zeros(nposts0,dtype=bool)\n",
    "keep[likeorder[int(nposts0*.25):int(nposts0*.5)]] = True\n",
    "print np.where(keep)[0].shape,\n",
    "image = np.mean(imagesG[keep],0)\n",
    "ax2.imshow(image/255.)\n",
    "\n",
    "ax3 = fig.add_subplot(143)\n",
    "keep = np.zeros(nposts0,dtype=bool)\n",
    "keep[likeorder[int(nposts0*.5):int(nposts0*.75)]] = True\n",
    "print np.where(keep)[0].shape,\n",
    "image = np.mean(imagesG[keep],0)\n",
    "ax3.imshow(image/255.)\n",
    "\n",
    "ax4 = fig.add_subplot(144)\n",
    "keep = np.zeros(nposts0,dtype=bool)\n",
    "keep[likeorder[int(nposts0*.75):]] = True\n",
    "print np.where(keep)[0].shape,\n",
    "image = np.mean(imagesG[keep],0)\n",
    "ax4.imshow(image/255.)\n",
    "\n",
    "#plt.show()"
   ]
  },
  {
   "cell_type": "code",
   "execution_count": 3,
   "metadata": {
    "collapsed": true
   },
   "outputs": [],
   "source": []
  },
  {
   "cell_type": "code",
   "execution_count": 25,
   "metadata": {},
   "outputs": [
    {
     "data": {
      "text/plain": [
       "3.0"
      ]
     },
     "execution_count": 25,
     "metadata": {},
     "output_type": "execute_result"
    }
   ],
   "source": [
    "import numpy as np\n",
    "node = struct[u'entry_data'][u'ProfilePage'][0][u'user'][u'media'][u'nodes'][2]\n",
    "node[u'likes'][u'count']\n",
    "np.mean([1,2,3,4,5])"
   ]
  },
  {
   "cell_type": "code",
   "execution_count": 34,
   "metadata": {},
   "outputs": [
    {
     "data": {
      "text/plain": [
       "{u'caption': u\"@frankfurtisst in Mainz: Bei @annabatterie gibt's neben veganem Fr\\xfchst\\xfcck auch yummy Scones, Pancakes und Kuchen\\u2764\\ufe0f #frankfurtisst#frankfurt#mainz#foodblog#foodblogger#foodblogger_de#annabatterie#foodie#scones#vegan#hummus#cake#breakfast#brekkie#breakfastclub#breakfastlover#restaurant#restaurantreview#instafood#igers#instagood#instabreakfast\",\n",
       " u'code': u'BZB4jVwAFSr',\n",
       " u'comments': u'4',\n",
       " u'date': 1505409270,\n",
       " u'fb_app_id': u'124024574287414',\n",
       " u'height': 1349,\n",
       " u'id': u'1603811661460821163',\n",
       " u'imgurl': u'https://instagram.fbed1-1.fna.fbcdn.net/t51.2885-15/e35/21689045_277368819446141_5342293443336994816_n.jpg',\n",
       " u'ismultiple': 1,\n",
       " u'likes': u'60',\n",
       " u'medium': 0,\n",
       " u'mediumtype': u'instapp:photo',\n",
       " u'timestamp': 1506038781.649653,\n",
       " u'userid': u'5548477859',\n",
       " u'width': 1080}"
      ]
     },
     "execution_count": 34,
     "metadata": {},
     "output_type": "execute_result"
    }
   ],
   "source": [
    "posts[0]"
   ]
  },
  {
   "cell_type": "code",
   "execution_count": null,
   "metadata": {
    "collapsed": true
   },
   "outputs": [],
   "source": []
  }
 ],
 "metadata": {
  "kernelspec": {
   "display_name": "Python 2",
   "language": "python",
   "name": "python2"
  },
  "language_info": {
   "codemirror_mode": {
    "name": "ipython",
    "version": 2
   },
   "file_extension": ".py",
   "mimetype": "text/x-python",
   "name": "python",
   "nbconvert_exporter": "python",
   "pygments_lexer": "ipython2",
   "version": "2.7.12"
  }
 },
 "nbformat": 4,
 "nbformat_minor": 2
}
